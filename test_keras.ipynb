{
 "cells": [
  {
   "cell_type": "code",
   "execution_count": 5,
   "id": "0b73f65b",
   "metadata": {},
   "outputs": [],
   "source": [
    "import tensorflow as tf\n",
    "import numpy as np"
   ]
  },
  {
   "cell_type": "code",
   "execution_count": 20,
   "id": "86003f32",
   "metadata": {},
   "outputs": [
    {
     "name": "stdout",
     "output_type": "stream",
     "text": [
      "1/1 [==============================] - 0s 40ms/step\n",
      "(32, 1, 64)\n"
     ]
    }
   ],
   "source": [
    ">>> model = tf.keras.Sequential()\n",
    ">>> model.add(tf.keras.layers.Embedding(1000, 64, input_length=1))\n",
    ">>> # The model will take as input an integer matrix of size (batch,\n",
    ">>> # input_length), and the largest integer (i.e. word index) in the input\n",
    ">>> # should be no larger than 999 (vocabulary size).\n",
    ">>> # Now model.output_shape is (None, 10, 64), where `None` is the batch\n",
    ">>> # dimension.\n",
    ">>> input_array = np.random.randint(1000, size=(32, 1))\n",
    ">>> model.compile('rmsprop', 'mse')\n",
    ">>> output_array = model.predict(input_array)\n",
    ">>> print(output_array.shape)\n"
   ]
  },
  {
   "cell_type": "code",
   "execution_count": 22,
   "id": "c71cedb1",
   "metadata": {},
   "outputs": [
    {
     "data": {
      "text/plain": [
       "array([[-7.62717798e-03,  2.62365825e-02,  4.83096726e-02,\n",
       "         3.49922106e-03,  4.45561744e-02,  4.20769304e-03,\n",
       "         3.59562524e-02,  3.16233672e-02,  1.31273158e-02,\n",
       "        -1.43897645e-02,  2.66341679e-02, -8.28067213e-03,\n",
       "         4.65450920e-02,  2.81646363e-02,  4.21465151e-02,\n",
       "        -4.70392779e-03,  1.91234089e-02,  2.91728042e-02,\n",
       "        -7.22243637e-03,  6.20406866e-03,  7.63901323e-03,\n",
       "         1.62975900e-02, -4.66045737e-02, -3.06449085e-03,\n",
       "         3.55370082e-02, -2.67876312e-03, -7.55916908e-03,\n",
       "         4.82646115e-02,  3.78613546e-03, -7.57617876e-03,\n",
       "        -4.12671193e-02, -5.58657572e-03,  2.47048773e-02,\n",
       "        -1.12726204e-02, -2.64335424e-04, -9.28055122e-03,\n",
       "         3.52434255e-02, -4.12894413e-03,  3.75962295e-02,\n",
       "        -2.23878510e-02, -2.92806271e-02, -4.51295152e-02,\n",
       "        -1.09318718e-02,  7.24419951e-05,  4.47081961e-02,\n",
       "        -4.40355800e-02,  2.07252540e-02, -4.64570522e-03,\n",
       "         2.15801261e-02,  1.97724439e-02,  4.44864146e-02,\n",
       "         4.56664674e-02,  1.47318877e-02,  4.00209688e-02,\n",
       "         1.52465366e-02, -1.61528587e-05,  3.22283022e-02,\n",
       "         4.28083874e-02, -4.32493091e-02, -2.48943921e-02,\n",
       "        -3.50863561e-02, -1.24667287e-02,  4.57227565e-02,\n",
       "         3.47961523e-02]], dtype=float32)"
      ]
     },
     "execution_count": 22,
     "metadata": {},
     "output_type": "execute_result"
    }
   ],
   "source": [
    "output_array[0]"
   ]
  },
  {
   "cell_type": "code",
   "execution_count": null,
   "id": "e5d9a789",
   "metadata": {},
   "outputs": [],
   "source": []
  }
 ],
 "metadata": {
  "kernelspec": {
   "display_name": "Python 3 (ipykernel)",
   "language": "python",
   "name": "python3"
  },
  "language_info": {
   "codemirror_mode": {
    "name": "ipython",
    "version": 3
   },
   "file_extension": ".py",
   "mimetype": "text/x-python",
   "name": "python",
   "nbconvert_exporter": "python",
   "pygments_lexer": "ipython3",
   "version": "3.9.12"
  }
 },
 "nbformat": 4,
 "nbformat_minor": 5
}
